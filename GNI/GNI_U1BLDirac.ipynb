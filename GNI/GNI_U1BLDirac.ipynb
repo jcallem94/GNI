{
 "cells": [
  {
   "cell_type": "code",
   "execution_count": 1,
   "metadata": {},
   "outputs": [
    {
     "name": "stdout",
     "output_type": "stream",
     "text": [
      "Populating the interactive namespace from numpy and matplotlib\n"
     ]
    }
   ],
   "source": [
    "import pandas as pd\n",
    "import scipy as sc\n",
    "import numpy as np\n",
    "%pylab inline\n",
    "import matplotlib\n",
    "matplotlib.rcParams['text.usetex'] = True\n",
    "matplotlib.rcParams['text.latex.unicode'] = True\n",
    "import matplotlib.pyplot as plt\n",
    "\n",
    "from matplotlib.colors import LogNorm"
   ]
  },
  {
   "cell_type": "code",
   "execution_count": 2,
   "metadata": {},
   "outputs": [
    {
     "name": "stdout",
     "output_type": "stream",
     "text": [
      "[[[8.21302076e-01 5.50502407e-01 1.49699699e-01]\n",
      "  [4.63050760e-01 4.89988544e-01 7.38576482e-01]\n",
      "  [3.33236993e-01 6.75912958e-01 6.57339167e-01]]\n",
      "\n",
      " [[5.02294734e-11 0.00000000e+00 0.00000000e+00]\n",
      "  [0.00000000e+00 8.59651092e-12 0.00000000e+00]\n",
      "  [0.00000000e+00 0.00000000e+00 0.00000000e+00]]]\n"
     ]
    }
   ],
   "source": [
    "def neutrino_data(IH=True):\n",
    "    '''From http://www.nu-fit.org/?q=node/166\n",
    "    and asumming a Normal Hierarchy:\n",
    "    Output:\n",
    "    mnu1in: laightest neutrino mass\n",
    "    Dms2: \\Delta m^2_{12}\n",
    "    Dma2: \\Delta m^2_{13}\n",
    "    ThetSol,ThetAtm,ThetRec: in radians\n",
    "    '''\n",
    "    if not IH:\n",
    "        Dms2=np.array([7.19e-5, 7.39e-5, 7.60e-5])*1e-18 # In GeV\n",
    "        Dma2=np.array([2.493e-3, 2.523e-3, 2.55e-3])*1e-18 # In GeV\n",
    "        #input real values:\n",
    "        #\n",
    "        ThetSol = np.array([0.298,  0.310,  0.323]) \n",
    "        ThetAtm = np.array([0.425,  0.558,  0.578])\n",
    "        ThetRec = np.array([0.02176, 0.02241, 0.02301])\n",
    "        DeltaCP = np.array([194*np.pi/180, 222*np.pi/180, 260*np.pi/180])\n",
    "    else:\n",
    "        Dms2=np.array([7.19e-5, 7.39e-5, 7.60e-5])*1e-18 # In GeV\n",
    "        Dma2=np.array([-2.541e-3, -2.509e-3, -2.479e-3])*1e-18 # In GeV\n",
    "        #input real values:\n",
    "        #\n",
    "        ThetSol = np.array([0.298,  0.310,  0.323]) \n",
    "        ThetAtm = np.array([0.537,  0.563,  0.582])\n",
    "        ThetRec = np.array([0.02197, 0.02261, 0.02328])\n",
    "        DeltaCP = np.array([259*np.pi/180.0, 285*np.pi/180.0, 309*np.pi/180.0])\n",
    "\n",
    "    return Dms2,Dma2,ThetSol,ThetAtm,ThetRec,DeltaCP\n",
    "\n",
    "def CasasIbarra(mnu1in=0.0,ranMnu=True,bestfit=True,IH=True):\n",
    "    #import numpy as np\n",
    "    #if ranMnu==True:\n",
    "    #    bestfit=True\n",
    "        \n",
    "    Dms2,Dma2,ThetSol,ThetAtm,ThetRec,DeltaCP=neutrino_data(IH)\n",
    "    \n",
    "    # Phases of the PMNS matrix\n",
    "    phases1=np.random.uniform(0.,0.0*np.pi,2)       # cero value for all phases         \n",
    "    \n",
    "    delta=1.*(0 if bestfit else np.random.uniform(DeltaCP[0],DeltaCP[2]))\n",
    "    eta1 =1.*(0 if ranMnu else phases1[1])\n",
    "    eta2 =1.*(0 if ranMnu else phases1[2])\n",
    "\n",
    "    if not IH:\n",
    "        mnu1=1.*(mnu1in      if bestfit else  10**((np.log10(2.5e-3)-np.log10(1e-9))*np.random.uniform(0,1)+np.log10(1e-9))*1e-9) \n",
    "        mnu2=1.*(np.sqrt(Dms2[1]+mnu1in**2)     if bestfit else  np.sqrt(np.random.uniform(Dms2[0],Dms2[2]) + mnu1**2)  ) \n",
    "        mnu3=1.*(np.sqrt(Dma2[1]+mnu1in**2)     if bestfit else  np.sqrt(np.random.uniform(Dma2[0],Dma2[2]) + mnu1**2)  )\n",
    "\n",
    "        # Square root of left-handed neutrino mass matrix \n",
    "        DMnu = np.diag( [mnu3,mnu2,mnu1] )  \n",
    "    else:\n",
    "        mnu3=1.*(mnu1in      if bestfit else  10**((np.log10(2.5e-3)-np.log10(1e-9))*np.random.uniform(0,1)+np.log10(1e-9))*1e-9) \n",
    "        mnu2=1.*(np.sqrt(-Dma2[1]+mnu1in**2)     if bestfit else  np.sqrt(np.random.uniform(-Dma2[2],-Dma2[0]) + mnu3**2)  ) \n",
    "        mnu1=1.*(np.sqrt(-Dms2[1]+mnu2**2)     if bestfit else  np.sqrt(-np.random.uniform(Dms2[0],Dms2[2]) + mnu2**2)  )\n",
    "        # Square root of left-handed neutrino mass matrix \n",
    "        DMnu = np.diag( [mnu2,mnu1,mnu3] )  \n",
    "\n",
    "    #print \"NEUTRINOS\",mnu1,mnu2,mnu3\n",
    "\n",
    "    # Mixing angles (up 3 sigma range)\n",
    "    t12 = 1.*( np.arcsin(np.sqrt(ThetSol[1])) if bestfit else np.arcsin(np.sqrt(np.random.uniform(ThetSol[0],ThetSol[2]))))#np.arcsin(np.sqrt(ThetSol[1]))\n",
    "    t23 = 1.*( np.arcsin(np.sqrt(ThetAtm[1])) if bestfit else np.arcsin(np.sqrt(np.random.uniform(ThetAtm[0],ThetAtm[2]))))\n",
    "    t13 = 1.*( np.arcsin(np.sqrt(ThetRec[1])) if bestfit else np.arcsin(np.sqrt(np.random.uniform(ThetRec[0],ThetRec[2]))))         #np.arcsin(np.sqrt(ThetRec[1]))\n",
    "\n",
    "    # Building PMNS matrix\n",
    "    U12 = np.array([ [np.cos(t12), np.sin(t12),0], [-np.sin(t12), np.cos(t12),0], [0,0,1.0] ])\n",
    "    U13 = np.array([ [np.cos(t13),0, np.sin(t13)* np.exp(-delta*1j)], [0,1.0,0], [-np.sin(t13)*np.exp(delta*1j),0, np.cos(t13)] ])\n",
    "    U23 = np.array([ [1.0,0,0], [0, np.cos(t23), np.sin(t23)], [0, -np.sin(t23), np.cos(t23)] ])\n",
    "    Uphases = np.array([ [np.exp(eta1*1j),0,0], [0, np.exp(eta2*1j),0], [0,0,1.0] ])\n",
    "    #U = np.dot(U23,np.dot(U13,np.dot(U12,Uphases)))\n",
    "    U = np.dot(U23,np.dot(U13,U12))\n",
    "    return U, DMnu\n",
    "\n",
    "\n",
    "if __name__=='__main__':\n",
    "    print(np.abs( CasasIbarra(mnu1in=0.0,ranMnu=True,bestfit=True,IH=False) ))"
   ]
  },
  {
   "cell_type": "code",
   "execution_count": 3,
   "metadata": {},
   "outputs": [],
   "source": [
    "def Const(Theta):\n",
    "    return np.sin(2.0*Theta)/(16.0*np.pi**2)\n",
    "\n",
    "def Masses(MH1, MH2, Ms, Theta, Lam5, Lam6, Lam8, Lam7, v, MZp, g1p):\n",
    "    vs = MZp/(3.0*g1p)\n",
    "    v2 = v*v; vs2 = vs*vs; MH12 = MH1*MH1; MH22 = MH2*MH2;\n",
    "    Mu3 = (MH22-MH12)*np.sin(2.0*Theta)/(np.sqrt(2.0)*vs)\n",
    "    Mu32 = Mu3*Mu3\n",
    "    MS22 = 0.5*(MH12+MH22+np.sqrt((MH22-MH12)**2-2.0*Mu32*vs2))\n",
    "    MS12 = 0.5*(MH12+MH22-np.sqrt((MH22-MH12)**2-2.0*Mu32*vs2))\n",
    "\n",
    "    Mu12 = MS12+0.5*Lam5*v2+0.5*Lam7*vs2\n",
    "    Mu22 = MS22+0.5*Lam6*v2+0.5*Lam8*vs2\n",
    "    L_s = -0.5*(Ms/(vs))**2\n",
    "    return L_s, Mu3, Mu12, Mu22, vs\n",
    "\n",
    "def I(M1, M2, m):\n",
    "    M12 = M1*M1; M22 = M2*M2; m2 = m*m\n",
    "    return (m*(M22*np.log(M22/m2)/(M22-m2)-M12*np.log(M12/m2)/(M12-m2)))\n",
    "\n",
    "def Inverse_Matrix(f23 = 1.0E-04, h11 = 1.0E-04, h22 = 1.0E-04, C = 0.001, MH1 = 500, MH2 = 700, IH=False):\n",
    "    \"\"\"Inverse neutrino mass matrix normalized by C from\n",
    "        Mnu_diag=UR^T.(C f.ml.h).UL\n",
    "        ,\n",
    "        (Inverse_Zee_Matrix) = UR.Mnu_diag\n",
    "        sgnm2=-1 guarantees real Yukawa couplings\n",
    "        \n",
    "    requires hep.py:\n",
    "       https://github.com/restrepo/BSM-Toolbox/blob/master/tests/hep.py\n",
    "    \"\"\"\n",
    "    m_e = 0.5109989461e-3; m_m = 0.1056583745; m_t = 1.77686\n",
    "    ml = [I(MH1, MH2, m_e),I(MH1, MH2, m_m),I(MH1, MH2, m_t)]\n",
    "\n",
    "    U_MNS, m = CasasIbarra(mnu1in=0.0,ranMnu=True,bestfit=True,IH=IH)\n",
    "    X = np.dot(U_MNS,m)\n",
    "\n",
    "    f = np.zeros((3,3))\n",
    "    h = np.zeros((3,3))\n",
    "    \n",
    "    f[1,2] = f23\n",
    "    h[0,0] = h11\n",
    "    h[1,1] = h22\n",
    "            \n",
    "    f[0,2] = (f[1,2]*(X[0,1]*X[2,0]-X[0,0]*X[2,1]))/(X[1,1]*X[2,0]-X[1,0]*X[2,1])\n",
    "    f[0,1] = (f[1,2]*(-(X[0,1]*X[1,0])+X[0,0]*X[1,1]))/(-(X[1,1]*X[2,0])+X[1,0]*X[2,1])\n",
    "    \n",
    "    f[2,0] =-f[0,2]\n",
    "    f[2,1] =-f[1,2]\n",
    "    f[1,0] =-f[0,1]\n",
    "    \n",
    "    h[1,0] = (C*f[1,2]*h[0,0]*ml[0]*(-(X[0,1]*X[2,0])+X[0,0]*X[2,1])+X[2,0]*(X[1,1]*X[2,0]-X[1,0]*X[2,1]))/(C*f[1,2]*ml[1]*(X[1,1]*X[2,0]-X[1,0]*X[2,1]))\n",
    "    h[0,1] = ((C*f[1,2]*h[1,1]*ml[1]-X[2,1])*(-(X[1,1]*X[2,0])+X[1,0]*X[2,1]))/(C*f[1,2]*ml[0]*(X[0,1]*X[2,0]-X[0,0]*X[2,1]))\n",
    "    h[2,1] = (C*f[1,2]*h[1,1]*ml[1]*(-(X[0,1]*X[1,0])+X[0,0]*X[1,1])+X[0,1]*(-(X[1,1]*X[2,0])+X[1,0]*X[2,1]))/(C*f[1,2]*ml[2]*(X[0,1]*X[2,0]-X[0,0]*X[2,1]))\n",
    "    h[2,0] = (-(X[1,0]/(C*f[1,2]))+(h[0,0]*ml[0]*(-(X[0,1]*X[1,0])+X[0,0]*X[1,1]))/(-(X[1,1]*X[2,0])+X[1,0]*X[2,1]))/ml[2]\n",
    "    \n",
    "    return f, h"
   ]
  },
  {
   "cell_type": "code",
   "execution_count": 4,
   "metadata": {},
   "outputs": [],
   "source": [
    "df1 = pd.read_hdf(path_or_buf='Datos_NSI_big_NH_III',key='process', mode='r')\n",
    "df = pd.read_csv('Datos_raw_NSI_big_NH_III')"
   ]
  },
  {
   "cell_type": "code",
   "execution_count": 5,
   "metadata": {},
   "outputs": [],
   "source": [
    "def n_phi(phi):\n",
    "    if phi < 0:\n",
    "        return np.pi/2-np.abs(phi)\n",
    "    else:\n",
    "        return phi"
   ]
  },
  {
   "cell_type": "code",
   "execution_count": 6,
   "metadata": {},
   "outputs": [
    {
     "name": "stderr",
     "output_type": "stream",
     "text": [
      "/home/jcallem/.local/lib/python3.5/site-packages/ipykernel_launcher.py:44: ComplexWarning: Casting complex values to real discards the imaginary part\n",
      "/home/jcallem/.local/lib/python3.5/site-packages/ipykernel_launcher.py:45: ComplexWarning: Casting complex values to real discards the imaginary part\n",
      "/home/jcallem/.local/lib/python3.5/site-packages/ipykernel_launcher.py:51: ComplexWarning: Casting complex values to real discards the imaginary part\n",
      "/home/jcallem/.local/lib/python3.5/site-packages/ipykernel_launcher.py:52: ComplexWarning: Casting complex values to real discards the imaginary part\n",
      "/home/jcallem/.local/lib/python3.5/site-packages/ipykernel_launcher.py:53: ComplexWarning: Casting complex values to real discards the imaginary part\n",
      "/home/jcallem/.local/lib/python3.5/site-packages/ipykernel_launcher.py:54: ComplexWarning: Casting complex values to real discards the imaginary part\n"
     ]
    }
   ],
   "source": [
    "f = []\n",
    "h = []\n",
    "\n",
    "for i in range(len(df1['f23'])):\n",
    "    C = Const(n_phi(df1['phi'][i]))\n",
    "    f1, h1 = Inverse_Matrix(df1['f23'][i], df1[(3,1)][i], df1[(3,2)][i], C, df1['Mh1'][i], df1['Mh2'][i], IH=False)\n",
    "    f.append(f1);  h.append(h1);"
   ]
  },
  {
   "cell_type": "markdown",
   "metadata": {},
   "source": [
    "# GNI parameter"
   ]
  },
  {
   "cell_type": "code",
   "execution_count": 7,
   "metadata": {},
   "outputs": [],
   "source": [
    "def A(f_i, f_j, phi, Mhp, MHp):\n",
    "    Mhp2 = Mhp*Mhp; MHp2 = MHp*MHp;\n",
    "    return f_i*f_j*((np.cos(phi)/Mhp2)**2-(np.sin(phi)/MHp2)**2)\n",
    " \n",
    "def B(h_i, h_j, phi, Mhp, MHp):\n",
    "    Mhp2 = Mhp*Mhp; MHp2 = MHp*MHp;\n",
    "    return h_i*h_j*((np.sin(phi)/Mhp2)**2-(np.cos(phi)/MHp2)**2)\n",
    "\n",
    "def C(h_i, f_j, phi, Mhp, MHp):\n",
    "    Mhp2 = Mhp*Mhp; MHp2 = MHp*MHp;\n",
    "    return h_i*f_j*np.sin(2*phi)*((1/Mhp2)**2-(1/MHp2)**2)\n",
    "\n",
    "def D(f_i, h_j, phi, Mhp, MHp):\n",
    "    Mhp2 = Mhp*Mhp; MHp2 = MHp*MHp;\n",
    "    return f_i*h_j*np.sin(2*phi)/2*((1/Mhp2)**2+(1/MHp2)**2)"
   ]
  },
  {
   "cell_type": "code",
   "execution_count": 8,
   "metadata": {},
   "outputs": [],
   "source": [
    "def epsilon_V(f_i, f_j, h_i, h_j, phi, Mhp, MHp):\n",
    "    Mhp2 = Mhp*Mhp; MHp2 = MHp*MHp; GF = 1.1663787e-5;\n",
    "    return (C(h_i, f_j, phi, Mhp, MHp)+D(h_i, f_j, phi, Mhp, MHp))/(4*np.sqrt(2)*GF)\n",
    "\n",
    "def epsilon_A(f_i, f_j, h_i, h_j, phi, Mhp, MHp):\n",
    "    Mhp2 = Mhp*Mhp; MHp2 = MHp*MHp; GF = 1.1663787e-5;\n",
    "    return (C(h_i, f_j, phi, Mhp, MHp)+D(h_i, f_j, phi, Mhp, MHp))/(4*np.sqrt(2)*GF)\n",
    "\n",
    "def epsilon_T(f_i, f_j, h_i, h_j, phi, Mhp, MHp):\n",
    "    Mhp2 = Mhp*Mhp; MHp2 = MHp*MHp; GF = 1.1663787e-5;\n",
    "    return -(A(f_i, f_j, phi, Mhp, MHp)+B(h_i, h_j, phi, Mhp, MHp))/(16*np.sqrt(2)*GF)\n",
    "\n",
    "def epsilonT_V(f_i, f_j, h_i, h_j, phi, Mhp, MHp):\n",
    "    Mhp2 = Mhp*Mhp; MHp2 = MHp*MHp; GF = 1.1663787e-5;\n",
    "    return (D(h_i, f_j, phi, Mhp, MHp)-C(h_i, f_j, phi, Mhp, MHp))/(4*np.sqrt(2)*GF)\n",
    "\n",
    "def epsilonT_A(f_i, f_j, h_i, h_j, phi, Mhp, MHp):\n",
    "    Mhp2 = Mhp*Mhp; MHp2 = MHp*MHp; GF = 1.1663787e-5;\n",
    "    return (D(h_i, f_j, phi, Mhp, MHp)-C(h_i, f_j, phi, Mhp, MHp))/(4*np.sqrt(2)*GF)\n",
    "\n",
    "def epsilonT_T(f_i, f_j, h_i, h_j, phi, Mhp, MHp):\n",
    "    Mhp2 = Mhp*Mhp; MHp2 = MHp*MHp; GF = 1.1663787e-5;\n",
    "    return -(A(f_i, f_j, phi, Mhp, MHp)+B(h_i, h_j, phi, Mhp, MHp))/(4*np.sqrt(2)*GF)\n"
   ]
  },
  {
   "cell_type": "code",
   "execution_count": 9,
   "metadata": {},
   "outputs": [],
   "source": [
    "def epsilon(mu1, nu1, mu, nu):\n",
    "    epsilon_V11 = []\n",
    "    epsilon_A11 = []\n",
    "    epsilon_T11 = []\n",
    "    epsilonT_V11 = []\n",
    "    epsilonT_A11 = []\n",
    "    epsilonT_T11 = []\n",
    "\n",
    "    for i in range(len(f)):\n",
    "        epsilon_V11.append(epsilon_V(f[i][mu,mu1], f[i][nu,nu1], h[i][mu1,mu], h[i][nu1,nu], n_phi(df1['phi'][i]), df1['Mh1'][i], df1['Mh2'][i]))\n",
    "        epsilon_A11.append(epsilon_A(f[i][mu,mu1], f[i][nu,nu1], h[i][mu1,mu], h[i][nu1,nu], n_phi(df1['phi'][i]), df1['Mh1'][i], df1['Mh2'][i]))\n",
    "        epsilon_T11.append(epsilon_T(f[i][mu,mu1], f[i][nu,nu1], h[i][mu1,mu], h[i][nu1,nu], n_phi(df1['phi'][i]), df1['Mh1'][i], df1['Mh2'][i]))\n",
    "        epsilonT_V11.append(epsilonT_V(f[i][mu,mu1], f[i][nu,nu1], h[i][mu1,mu], h[i][nu1,nu], n_phi(df1['phi'][i]), df1['Mh1'][i], df1['Mh2'][i]))\n",
    "        epsilonT_A11.append(epsilonT_A(f[i][mu,mu1], f[i][nu,nu1], h[i][mu1,mu], h[i][nu1,nu], n_phi(df1['phi'][i]), df1['Mh1'][i], df1['Mh2'][i]))\n",
    "        epsilonT_T11.append(epsilonT_T(f[i][mu,mu1], f[i][nu,nu1], h[i][mu1,mu], h[i][nu1,nu], n_phi(df1['phi'][i]), df1['Mh1'][i], df1['Mh2'][i]))    \n",
    "        \n",
    "    return epsilon_V11, epsilon_A11, epsilon_T11, epsilonT_V11, epsilonT_A11, epsilonT_T11"
   ]
  },
  {
   "cell_type": "code",
   "execution_count": 10,
   "metadata": {},
   "outputs": [],
   "source": [
    "mu1 = 0\n",
    "nu1 = 0\n",
    "mu = 1\n",
    "nu = 1\n",
    "\n",
    "epsilon_V11, epsilon_A11, epsilon_T11, epsilonT_V11, epsilonT_A11, epsilonT_T11 = epsilon(mu1, nu1, mu, nu)"
   ]
  },
  {
   "cell_type": "code",
   "execution_count": 11,
   "metadata": {},
   "outputs": [
    {
     "data": {
      "image/png": "[encoded data removed]",
      "text/plain": [
       "<matplotlib.figure.Figure at 0x7fb30ff8fc18>"
      ]
     },
     "metadata": {},
     "output_type": "display_data"
    }
   ],
   "source": [
    "plt.plot(df1['Mh1'], np.real(epsilonT_T11),'b.')\n",
    "plt.plot(df1['Mh2'], np.real(epsilonT_T11),'r.')\n",
    "#plt.plot(df1['Mh2']-df1['Mh1'], np.real(epsilonT_T11),'r.')\n",
    "#plt.xlim(80,200)\n",
    "plt.yscale('log')"
   ]
  },
  {
   "cell_type": "code",
   "execution_count": 12,
   "metadata": {},
   "outputs": [],
   "source": [
    "def epsilon_max(n_i, n_j, n_mu, n_nu, n_mu1, n_nu1):\n",
    "    n = 0\n",
    "    for i in range(len(h)-1):\n",
    "        if np.abs(h[i+1][n_i,n_j]) > np.abs(h[n][n_i,n_j]):\n",
    "            n = i+1\n",
    "\n",
    "    eps_max = []\n",
    "    for i in range(len(f)):\n",
    "        eps_max.append(epsilonT_T(np.abs(f[n][n_mu1,0]), np.abs(f[n][n_nu1,0]), h[n][0,n_nu], h[n][0,n_mu], n_phi(df1['phi'][i]), df1['Mh1'][i], df1['Mh2'][i]))\n",
    "    return eps_max\n"
   ]
  },
  {
   "cell_type": "code",
   "execution_count": 13,
   "metadata": {},
   "outputs": [
    {
     "data": {
      "image/png": "[encoded data removed]",
      "text/plain": [
       "<matplotlib.figure.Figure at 0x7fb30fe13f98>"
      ]
     },
     "metadata": {},
     "output_type": "display_data"
    }
   ],
   "source": [
    "fig = plt.figure()\n",
    "plt.plot(df1['Mh2'], np.real(epsilon_max(0, 0, 0, 0, 2, 0)),'r.', label = r\"$\\tilde{\\epsilon}^{T}_{\\tau \\tau}$\")\n",
    "plt.plot(df1['Mh2'], np.real(epsilon_max(0, 1, 1, 1, 1, 0)),'b.', label = r\"$\\tilde{\\epsilon}^{T}_{\\mu \\mu}$\")\n",
    "\n",
    "#plt.xscale('log')\n",
    "plt.yscale('log')\n",
    "plt.xlabel(r'$M_{H^{\\pm}}$', fontsize=14)\n",
    "plt.ylabel(r\"$\\tilde{\\epsilon}^{T}$\", fontsize=14)\n",
    "#plt.title(r\"Production cross section for W'\")\n",
    "plt.xlim(90,200)\n",
    "plt.ylim(1e-12,1e-2)\n",
    "plt.legend(loc=\"lower left\") \n",
    "fig.savefig(\"GIN_NO.pdf\", bbox_inches='tight')"
   ]
  },
  {
   "cell_type": "code",
   "execution_count": null,
   "metadata": {},
   "outputs": [],
   "source": []
  }
 ],
 "metadata": {
  "kernelspec": {
   "display_name": "Python 3",
   "language": "python",
   "name": "python3"
  },
  "language_info": {
   "codemirror_mode": {
    "name": "ipython",
    "version": 3
   },
   "file_extension": ".py",
   "mimetype": "text/x-python",
   "name": "python",
   "nbconvert_exporter": "python",
   "pygments_lexer": "ipython3",
   "version": "3.5.2"
  }
 },
 "nbformat": 4,
 "nbformat_minor": 2
}
