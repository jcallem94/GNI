{
 "cells": [
  {
   "cell_type": "markdown",
   "metadata": {},
   "source": [
    "#  Modelo U(1)_BL Dirac Neutrinos"
   ]
  },
  {
   "cell_type": "markdown",
   "metadata": {},
   "source": [
    "Sample of notebook for specific model"
   ]
  },
  {
   "cell_type": "code",
   "execution_count": 1,
   "metadata": {},
   "outputs": [
    {
     "name": "stdout",
     "output_type": "stream",
     "text": [
      "Populating the interactive namespace from numpy and matplotlib\n"
     ]
    }
   ],
   "source": [
    "%pylab inline"
   ]
  },
  {
   "cell_type": "code",
   "execution_count": 2,
   "metadata": {},
   "outputs": [],
   "source": [
    "import pandas as pd\n",
    "import numpy as np\n",
    "import os, sys, inspect\n",
    "import commands\n",
    "import hep as hp\n",
    "import scipy as sc\n",
    "import random\n",
    "\n",
    "from scipy import linalg\n",
    "import math\n",
    "from matplotlib.colors import LogNorm"
   ]
  },
  {
   "cell_type": "markdown",
   "metadata": {},
   "source": [
    "# Neutrino masses and Pontecorvo–Maki–Nakagawa–Sakata matrix"
   ]
  },
  {
   "cell_type": "code",
   "execution_count": 3,
   "metadata": {},
   "outputs": [
    {
     "name": "stdout",
     "output_type": "stream",
     "text": [
      "[[[8.21302076e-01 5.50502407e-01 1.49699699e-01]\n",
      "  [4.63050760e-01 4.89988544e-01 7.38576482e-01]\n",
      "  [3.33236993e-01 6.75912958e-01 6.57339167e-01]]\n",
      "\n",
      " [[5.02294734e-11 0.00000000e+00 0.00000000e+00]\n",
      "  [0.00000000e+00 8.59651092e-12 0.00000000e+00]\n",
      "  [0.00000000e+00 0.00000000e+00 0.00000000e+00]]]\n"
     ]
    }
   ],
   "source": [
    "def neutrino_data(IH=True):\n",
    "    '''From http://www.nu-fit.org/?q=node/166\n",
    "    and asumming a Normal Hierarchy:\n",
    "    Output:\n",
    "    mnu1in: laightest neutrino mass\n",
    "    Dms2: \\Delta m^2_{12}\n",
    "    Dma2: \\Delta m^2_{13}\n",
    "    ThetSol,ThetAtm,ThetRec: in radians\n",
    "    '''\n",
    "    if not IH:\n",
    "        Dms2=np.array([7.19e-5, 7.39e-5, 7.60e-5])*1e-18 # In GeV\n",
    "        Dma2=np.array([2.493e-3, 2.523e-3, 2.55e-3])*1e-18 # In GeV\n",
    "        #input real values:\n",
    "        #\n",
    "        ThetSol = np.array([0.298,  0.310,  0.323]) \n",
    "        ThetAtm = np.array([0.425,  0.558,  0.578])\n",
    "        ThetRec = np.array([0.02176, 0.02241, 0.02301])\n",
    "        DeltaCP = np.array([194*np.pi/180, 222*np.pi/180, 260*np.pi/180])\n",
    "    else:\n",
    "        Dms2=np.array([7.19e-5, 7.39e-5, 7.60e-5])*1e-18 # In GeV\n",
    "        Dma2=np.array([-2.541e-3, -2.509e-3, -2.479e-3])*1e-18 # In GeV\n",
    "        #input real values:\n",
    "        #\n",
    "        ThetSol = np.array([0.298,  0.310,  0.323]) \n",
    "        ThetAtm = np.array([0.537,  0.563,  0.582])\n",
    "        ThetRec = np.array([0.02197, 0.02261, 0.02328])\n",
    "        DeltaCP = np.array([259*np.pi/180.0, 285*np.pi/180.0, 309*np.pi/180.0])\n",
    "\n",
    "    return Dms2,Dma2,ThetSol,ThetAtm,ThetRec,DeltaCP\n",
    "\n",
    "def CasasIbarra(mnu1in=0.0,ranMnu=True,bestfit=True,IH=True):\n",
    "    #import numpy as np\n",
    "    #if ranMnu==True:\n",
    "    #    bestfit=True\n",
    "        \n",
    "    Dms2,Dma2,ThetSol,ThetAtm,ThetRec,DeltaCP=neutrino_data(IH)\n",
    "    \n",
    "    # Phases of the PMNS matrix\n",
    "    phases1=np.random.uniform(0.,0.0*np.pi,2)       # cero value for all phases         \n",
    "    \n",
    "    delta=1.*(0 if bestfit else np.random.uniform(DeltaCP[0],DeltaCP[2]))\n",
    "    eta1 =1.*(0 if ranMnu else phases1[1])\n",
    "    eta2 =1.*(0 if ranMnu else phases1[2])\n",
    "\n",
    "    if not IH:\n",
    "        mnu1=1.*(mnu1in      if bestfit else  10**((np.log10(2.5e-3)-np.log10(1e-9))*np.random.uniform(0,1)+np.log10(1e-9))*1e-9) \n",
    "        mnu2=1.*(np.sqrt(Dms2[1]+mnu1in**2)     if bestfit else  np.sqrt(np.random.uniform(Dms2[0],Dms2[2]) + mnu1**2)  ) \n",
    "        mnu3=1.*(np.sqrt(Dma2[1]+mnu1in**2)     if bestfit else  np.sqrt(np.random.uniform(Dma2[0],Dma2[2]) + mnu1**2)  )\n",
    "\n",
    "        # Square root of left-handed neutrino mass matrix \n",
    "        DMnu = np.diag( [mnu3,mnu2,mnu1] )  \n",
    "    else:\n",
    "        mnu3=1.*(mnu1in      if bestfit else  10**((np.log10(2.5e-3)-np.log10(1e-9))*np.random.uniform(0,1)+np.log10(1e-9))*1e-9) \n",
    "        mnu2=1.*(np.sqrt(-Dma2[1]+mnu1in**2)     if bestfit else  np.sqrt(np.random.uniform(-Dma2[2],-Dma2[0]) + mnu3**2)  ) \n",
    "        mnu1=1.*(np.sqrt(-Dms2[1]+mnu2**2)     if bestfit else  np.sqrt(-np.random.uniform(Dms2[0],Dms2[2]) + mnu2**2)  )\n",
    "        # Square root of left-handed neutrino mass matrix \n",
    "        DMnu = np.diag( [mnu2,mnu1,mnu3] )  \n",
    "\n",
    "    #print \"NEUTRINOS\",mnu1,mnu2,mnu3\n",
    "\n",
    "    # Mixing angles (up 3 sigma range)\n",
    "    t12 = 1.*( np.arcsin(np.sqrt(ThetSol[1])) if bestfit else np.arcsin(np.sqrt(np.random.uniform(ThetSol[0],ThetSol[2]))))#np.arcsin(np.sqrt(ThetSol[1]))\n",
    "    t23 = 1.*( np.arcsin(np.sqrt(ThetAtm[1])) if bestfit else np.arcsin(np.sqrt(np.random.uniform(ThetAtm[0],ThetAtm[2]))))\n",
    "    t13 = 1.*( np.arcsin(np.sqrt(ThetRec[1])) if bestfit else np.arcsin(np.sqrt(np.random.uniform(ThetRec[0],ThetRec[2]))))         #np.arcsin(np.sqrt(ThetRec[1]))\n",
    "\n",
    "    # Building PMNS matrix\n",
    "    U12 = np.array([ [np.cos(t12), np.sin(t12),0], [-np.sin(t12), np.cos(t12),0], [0,0,1.0] ])\n",
    "    U13 = np.array([ [np.cos(t13),0, np.sin(t13)* np.exp(-delta*1j)], [0,1.0,0], [-np.sin(t13)*np.exp(delta*1j),0, np.cos(t13)] ])\n",
    "    U23 = np.array([ [1.0,0,0], [0, np.cos(t23), np.sin(t23)], [0, -np.sin(t23), np.cos(t23)] ])\n",
    "    Uphases = np.array([ [np.exp(eta1*1j),0,0], [0, np.exp(eta2*1j),0], [0,0,1.0] ])\n",
    "    #U = np.dot(U23,np.dot(U13,np.dot(U12,Uphases)))\n",
    "    U = np.dot(U23,np.dot(U13,U12))\n",
    "    return U, DMnu\n",
    "\n",
    "\n",
    "if __name__=='__main__':\n",
    "    print(np.abs( CasasIbarra(mnu1in=0.0,ranMnu=True,bestfit=True,IH=False) ))"
   ]
  },
  {
   "cell_type": "markdown",
   "metadata": {},
   "source": [
    "# Inverse neutrino mass matrix"
   ]
  },
  {
   "cell_type": "code",
   "execution_count": 4,
   "metadata": {},
   "outputs": [],
   "source": [
    "def Masses(MH1, MH2, Ms, Theta, Lam5, Lam6, Lam8, Lam7, v, MZp, g1p):\n",
    "    \"\"\" function that transform the coupling at \n",
    "        interaction base to physics base \n",
    "    \"\"\"\n",
    "    vs = MZp/(3.0*g1p)\n",
    "    v2 = v*v; vs2 = vs*vs; MH12 = MH1*MH1; MH22 = MH2*MH2;\n",
    "    Mu3 = (MH22-MH12)*np.sin(2.0*Theta)/(np.sqrt(2.0)*vs)\n",
    "    Mu32 = Mu3*Mu3\n",
    "    MS22 = 0.5*(MH12+MH22+np.sqrt((MH22-MH12)**2-2.0*Mu32*vs2))\n",
    "    MS12 = 0.5*(MH12+MH22-np.sqrt((MH22-MH12)**2-2.0*Mu32*vs2))\n",
    "\n",
    "    Mu12 = MS12+0.5*Lam5*v2+0.5*Lam7*vs2\n",
    "    Mu22 = MS22+0.5*Lam6*v2+0.5*Lam8*vs2\n",
    "    L_s = -0.5*(Ms/(vs))**2\n",
    "    return L_s, Mu3, Mu12, Mu22, vs\n",
    "\n",
    "def Const(Theta):\n",
    "    MH12 = MH1*MH1; MH22 = MH2*MH2;\n",
    "    return np.sin(2.0*Theta)/(16.0*np.pi**2)\n",
    "\n",
    "def I(M1, M2, m):\n",
    "    M12 = M1*M1; M22 = M2*M2; m2 = m*m\n",
    "    return (m*(M22*np.log(M22/m2)/(M22-m2)-M12*np.log(M12/m2)/(M12-m2)))\n",
    "\n",
    "def Inverse_Matrix(f23 = 1.0E-04, h11 = 1.0E-04, h22 = 1.0E-04, C = 0.001, MH1 = 500, MH2 = 700, IH=False):\n",
    "    \"\"\"Inverse neutrino mass matrix normalized by C from\n",
    "        Mnu_diag=UR^T.(C f.ml.h).UL\n",
    "        ,\n",
    "        (Inverse_Zee_Matrix) = UR.Mnu_diag\n",
    "        sgnm2=-1 guarantees real Yukawa couplings\n",
    "        \n",
    "    requires hep.py:\n",
    "       https://github.com/restrepo/BSM-Toolbox/blob/master/tests/hep.py\n",
    "    \"\"\"\n",
    "    m_e = 0.5109989461e-3; m_m = 0.1056583745; m_t = 1.77686\n",
    "    ml = [I(MH1, MH2, m_e),I(MH1, MH2, m_m),I(MH1, MH2, m_t)]\n",
    "\n",
    "    U_MNS, m = CasasIbarra(mnu1in=0.0,ranMnu=True,bestfit=True,IH=IH)\n",
    "    X = np.dot(U_MNS,m)\n",
    "\n",
    "    f = np.zeros((3,3))\n",
    "    h = np.zeros((3,3))\n",
    "    \n",
    "    f[1,2] = f23\n",
    "    h[0,0] = h11\n",
    "    h[1,1] = h22\n",
    "            \n",
    "    f[0,2] = (f[1,2]*(X[0,1]*X[2,0]-X[0,0]*X[2,1]))/(X[1,1]*X[2,0]-X[1,0]*X[2,1])\n",
    "    f[0,1] = (f[1,2]*(-(X[0,1]*X[1,0])+X[0,0]*X[1,1]))/(-(X[1,1]*X[2,0])+X[1,0]*X[2,1])\n",
    "    \n",
    "    f[2,0] =-f[0,2]\n",
    "    f[2,1] =-f[1,2]\n",
    "    f[1,0] =-f[0,1]\n",
    "    \n",
    "    h[1,0] = (C*f[1,2]*h[0,0]*ml[0]*(-(X[0,1]*X[2,0])+X[0,0]*X[2,1])+X[2,0]*(X[1,1]*X[2,0]-X[1,0]*X[2,1]))/(C*f[1,2]*ml[1]*(X[1,1]*X[2,0]-X[1,0]*X[2,1]))\n",
    "    h[0,1] = ((C*f[1,2]*h[1,1]*ml[1]-X[2,1])*(-(X[1,1]*X[2,0])+X[1,0]*X[2,1]))/(C*f[1,2]*ml[0]*(X[0,1]*X[2,0]-X[0,0]*X[2,1]))\n",
    "    h[2,1] = (C*f[1,2]*h[1,1]*ml[1]*(-(X[0,1]*X[1,0])+X[0,0]*X[1,1])+X[0,1]*(-(X[1,1]*X[2,0])+X[1,0]*X[2,1]))/(C*f[1,2]*ml[2]*(X[0,1]*X[2,0]-X[0,0]*X[2,1]))\n",
    "    h[2,0] = (-(X[1,0]/(C*f[1,2]))+(h[0,0]*ml[0]*(-(X[0,1]*X[1,0])+X[0,0]*X[1,1]))/(-(X[1,1]*X[2,0])+X[1,0]*X[2,1]))/ml[2]\n",
    "    \n",
    "    return f, h"
   ]
  },
  {
   "cell_type": "code",
   "execution_count": 5,
   "metadata": {},
   "outputs": [],
   "source": [
    "a=hp.hep(MODEL='U1BLDirac')"
   ]
  },
  {
   "cell_type": "code",
   "execution_count": 6,
   "metadata": {},
   "outputs": [],
   "source": [
    "#Todo en Gev\n",
    "Ms =  300.0\n",
    "MH1 = 500.0\n",
    "MH2 = 700.0\n",
    "MZp = 2500.0\n",
    "Theta = 0.1\n",
    "g1p = 0.5\n",
    "g1p1 = 0.0\n",
    "g11p = 0.0\n",
    "\n",
    "LamH = -1.27000000E-01\n",
    "Lam1 = 0.0000000E-03\n",
    "Lam2 = 0.0000000E-03\n",
    "Lam3 = 0.0000000E-03\n",
    "Lam4 = 0.0000000E-03\n",
    "Lam5 = 1.0000000E-03\n",
    "Lam6 = 1.0000000E-03\n",
    "Lam7 = 1.0000000E-03\n",
    "Lam8 = 1.0000000E-03\n",
    "v = 2.46875795E+02\n",
    "\n",
    "LamS, Mu3, Mu12, Mu22, vs = Masses(MH1, MH2, Ms, Theta, Lam5, Lam6, Lam8, Lam7, v, MZp, g1p)\n",
    "\n",
    "devnull=commands.getoutput('rm -f SPheno.spc.%s' %a.MODEL)\n",
    "\n",
    "a.LHA.blocks['SPHENOINPUT'].entries[55]='0               # Calculate one loop masses'\n",
    "a.LHA.blocks['MINPAR'][1]='%0.8E       #lambdaHInput' %LamH\n",
    "a.LHA.blocks['MINPAR'][2]='%0.8E       #lambdaSInput' %LamS\n",
    "a.LHA.blocks['MINPAR'][3]='%0.8E       #lambda1Input' %Lam1\n",
    "a.LHA.blocks['MINPAR'][4]='%0.8E       #lambda2Input' %Lam2\n",
    "a.LHA.blocks['MINPAR'][5]='%0.8E       #lambda3Input' %Lam3\n",
    "a.LHA.blocks['MINPAR'][6]='%0.8E       #lambda4Input' %Lam4\n",
    "a.LHA.blocks['MINPAR'][7]='%0.8E       #lambda5Input' %Lam5\n",
    "a.LHA.blocks['MINPAR'][8]='%0.8E       #lambda6Input' %Lam6\n",
    "a.LHA.blocks['MINPAR'][9]='%0.8E       #lambda7Input' %Lam7\n",
    "a.LHA.blocks['MINPAR'][10]='%0.8E      #lambda8Input' %Lam8\n",
    "a.LHA.blocks['MINPAR'][11]='%0.8E      #mu1INPUT'     %Mu12\n",
    "a.LHA.blocks['MINPAR'][12]='%0.8E      #mu2INPUT'     %Mu22\n",
    "a.LHA.blocks['MINPAR'][13]='%0.8E      #mu3INPUT'     %Mu3\n",
    "a.LHA.blocks['MINPAR'][20]='%0.8E      #g1pINPUT'     %g1p\n",
    "a.LHA.blocks['MINPAR'][21]='%0.8E      #g1p1INPUT'    %g1p1\n",
    "a.LHA.blocks['MINPAR'][22]='%0.8E      #g11pINPUT'    %g11p\n",
    "a.LHA.blocks['MINPAR'][30]='%0.8E      #vXinput'      %vs\n",
    "\n",
    "\n",
    "moc=a.runSPheno()"
   ]
  },
  {
   "cell_type": "code",
   "execution_count": 7,
   "metadata": {},
   "outputs": [],
   "source": [
    "def sign():\n",
    "    if np.random.rand()<0.5:\n",
    "        return +1\n",
    "    else: return -1"
   ]
  },
  {
   "cell_type": "code",
   "execution_count": 8,
   "metadata": {},
   "outputs": [
    {
     "name": "stderr",
     "output_type": "stream",
     "text": [
      "/usr/local/lib/python2.7/dist-packages/ipykernel_launcher.py:45: ComplexWarning: Casting complex values to real discards the imaginary part\n",
      "/usr/local/lib/python2.7/dist-packages/ipykernel_launcher.py:46: ComplexWarning: Casting complex values to real discards the imaginary part\n",
      "/usr/local/lib/python2.7/dist-packages/ipykernel_launcher.py:52: ComplexWarning: Casting complex values to real discards the imaginary part\n",
      "/usr/local/lib/python2.7/dist-packages/ipykernel_launcher.py:53: ComplexWarning: Casting complex values to real discards the imaginary part\n",
      "/usr/local/lib/python2.7/dist-packages/ipykernel_launcher.py:54: ComplexWarning: Casting complex values to real discards the imaginary part\n",
      "/usr/local/lib/python2.7/dist-packages/ipykernel_launcher.py:55: ComplexWarning: Casting complex values to real discards the imaginary part\n"
     ]
    },
    {
     "data": {
      "text/plain": [
       "(60, 18)"
      ]
     },
     "execution_count": 8,
     "metadata": {},
     "output_type": "execute_result"
    }
   ],
   "source": [
    "IH = True\n",
    "df=pd.DataFrame()\n",
    "npoints=100\n",
    "hmin=1E-6;hmax=3\n",
    "hmin1=1E-2;hmax1=3\n",
    "\n",
    "for i in range(npoints):\n",
    "    M2 = random.uniform(80, 200)\n",
    "    M1 = random.uniform(80, M2)\n",
    "\n",
    "    Theta = random.uniform(0, np.pi/2)\n",
    "    O=pd.Series({'Theta':Theta,'M1':M1,'M2':M2})\n",
    "    #for ij in [(1,2),(1,3),(2,1)]:\n",
    "    #    O[ij]=np.exp(np.random.uniform(np.log(hmin),np.log(hmax)))\n",
    "    f23=sign()*np.exp(np.random.uniform(np.log(hmin),np.log(hmax)))\n",
    "    \n",
    "    h11=sign()*np.exp(np.random.uniform(np.log(hmin),np.log(hmax)))\n",
    "    h22=sign()*np.exp(np.random.uniform(np.log(hmin),np.log(hmax)))\n",
    "                \n",
    "    C = Const(O.Theta)\n",
    "    O['C']=C\n",
    "    f, h = Inverse_Matrix(f23 = f23, h11 = h11, h22 = h22, C = C, MH1 = M1, MH2 = M2,IH=IH)\n",
    "    if np.abs(np.append(h,f)).max()<=hmax and np.abs(np.append(h,f)).max()>=hmin:\n",
    "        O=O.append(pd.Series({'h11':h[0,0],'h12':h[0,1],'h13':h[0,2],'h21':h[1,0],'h22':h[1,1],'h23':h[1,2],\\\n",
    "                              'h31':h[2,0],'h32':h[2,1],'h33':h[2,2],'f12':f[0,1],'f13':f[0,2],'f23':f[1,2],'h':h,'f':f}))\n",
    "        df=df.append(O,ignore_index=True)\n",
    "    \n",
    "df.shape"
   ]
  },
  {
   "cell_type": "markdown",
   "metadata": {},
   "source": [
    "# check points"
   ]
  },
  {
   "cell_type": "code",
   "execution_count": 9,
   "metadata": {},
   "outputs": [],
   "source": [
    "def Mass_neu(f, h, MH1, MH2, Theta):\n",
    "    m_e = 0.5109989461e-3; m_m = 0.1056583745; m_t = 1.77686\n",
    "\n",
    "    ml = np.diag( [I(MH1, MH2, m_e),I(MH1, MH2, m_m),I(MH1, MH2, m_t)] )  \n",
    "    Mv = Const(Theta)*np.dot(f.transpose(),np.dot(ml,h))\n",
    "    \n",
    "    A = np.dot(Mv.transpose(),Mv)\n",
    "    B = np.linalg.eig(A)\n",
    "    \n",
    "    A = np.dot(Mv,Mv.transpose())\n",
    "    C = np.linalg.eig(A)\n",
    "    \n",
    "    return np.sqrt(np.abs(B[0])), B[1], np.sqrt(np.abs(C[0])), C[1]"
   ]
  },
  {
   "cell_type": "code",
   "execution_count": 42,
   "metadata": {},
   "outputs": [
    {
     "data": {
      "text/plain": [
       "(array([5.00899191e-11, 4.93467324e-11, 0.00000000e+00]),\n",
       " array([[1.00000000e+00, 9.92934053e-16, 0.00000000e+00],\n",
       "        [0.00000000e+00, 1.00000000e+00, 0.00000000e+00],\n",
       "        [0.00000000e+00, 0.00000000e+00, 1.00000000e+00]]),\n",
       " array([5.00899191e-11, 4.33680869e-19, 4.93467324e-11]),\n",
       " array([[-0.82121806,  0.15036622, -0.55044609],\n",
       "        [ 0.46178179,  0.74180224, -0.4862993 ],\n",
       "        [-0.33519916,  0.65354375,  0.67861778]]))"
      ]
     },
     "execution_count": 42,
     "metadata": {},
     "output_type": "execute_result"
    }
   ],
   "source": [
    "i = 5\n",
    "Mass_neu(df.f[i], df.h[i], df.M1[i], df.M2[i], df.Theta[i])"
   ]
  },
  {
   "cell_type": "code",
   "execution_count": 43,
   "metadata": {},
   "outputs": [],
   "source": [
    "def Check(M1, M2, M3, IH = False):\n",
    "    \n",
    "    if not IH:\n",
    "        Dms2=np.array([6.79e-5, 8.01e-5])*1e-18 # In GeV\n",
    "        Dma2=np.array([2.432e-3, 2.618e-3])*1e-18 # In GeV\n",
    "    \n",
    "        mnu2_min=np.sqrt(Dms2[0]+M1**2)\n",
    "        mnu2_max=np.sqrt(Dms2[1]+M1**2)\n",
    "        mnu3_min=np.sqrt(Dma2[0]+M1**2)\n",
    "        mnu3_max=np.sqrt(Dma2[1]+M1**2)\n",
    "\n",
    "        if  M3 >= np.abs(mnu3_min) and M3 <= np.abs(mnu3_max):\n",
    "            if M2 >= np.abs(mnu2_min) and M2 <= np.abs(mnu2_max):\n",
    "                if M1 < 1.0E-15 or math.isnan(M1):\n",
    "                    return True\n",
    "    else:\n",
    "        Dms2=np.array([6.79e-5, 8.01e-5])*1e-18 # In GeV\n",
    "        Dma2=np.array([2.416e-3, 2.603e-3])*1e-18 # In GeV\n",
    "        \n",
    "        mnu2_min=np.sqrt(Dma2[0]+M1**2)\n",
    "        mnu2_max=np.sqrt(Dma2[1]+M1**2)\n",
    "        mnu1_max=np.sqrt(-Dms2[0]+mnu2_max**2)\n",
    "        mnu1_min=np.sqrt(-Dms2[1]+mnu2_min**2)\n",
    "        \n",
    "        if  M3 >= np.abs(mnu2_min) and M3 <= np.abs(mnu2_max):\n",
    "            if M2 >= np.abs(mnu1_min) and M2 <= np.abs(mnu1_max):\n",
    "                if M1 < 1.0E-15 or math.isnan(M1):\n",
    "                    return True\n",
    "        \n",
    "    return False\n",
    "\n",
    "def Check_Ang(t12, t23, t13): #, ReU, ImU\n",
    "    t12E=np.array([31.42, 36.05])\n",
    "    t23E=np.array([0, 360])#np.array([40.3, 51.5])\n",
    "    t13E=np.array([8.09, 8.98])    \n",
    "    if  t12 >= t12E[0] and t12 <= t12E[1]:\n",
    "        if t23 >= t23E[0] and t23 <= t23E[1]:\n",
    "            if t13 >= t13E[0] and t13 <= t13E[1]:\n",
    "                return True\n",
    "    return False\n",
    "\n",
    "def Check_LFV(FLFV):\n",
    "    muegamma = 4.2E-13; tauegamma = 3.3E-08; taumugamma = 4.4E-08; mu3e = 1.0E-12; tau3mu = 2.1E-08 \n",
    "    tauemumu = 2.7E-08; taumuee = 1.8E-08; tau3e = 2.7E-08; mueTi = 4.3E-12; mueAu = 7.0E-13\n",
    "    LFV = np.array([muegamma, tauegamma, taumugamma, mu3e, tau3mu, tauemumu, taumuee, tau3e, mueTi, mueAu])        \n",
    "    return np.all(FLFV < LFV)"
   ]
  },
  {
   "cell_type": "markdown",
   "metadata": {},
   "source": [
    "# Run Sarah"
   ]
  },
  {
   "cell_type": "code",
   "execution_count": 51,
   "metadata": {},
   "outputs": [
    {
     "name": "stdout",
     "output_type": "stream",
     "text": [
      "(0.0, 0)\n",
      "(0.1, 6)\n",
      "(0.2, 12)\n",
      "(0.3, 18)\n",
      "(0.4, 24)\n",
      "(0.5, 30)\n",
      "(0.6, 36)\n",
      "(0.7, 42)\n",
      "(0.8, 48)\n",
      "(0.9, 54)\n"
     ]
    },
    {
     "data": {
      "text/plain": [
       "(11, 131)"
      ]
     },
     "execution_count": 51,
     "metadata": {},
     "output_type": "execute_result"
    }
   ],
   "source": [
    "N = df.f12.shape[0]\n",
    "j = 0\n",
    "k = 0\n",
    "df1=pd.DataFrame()\n",
    "\n",
    "for i in range(N):  \n",
    "    h11 = df.h[i][0,0]          # h(1,1)\n",
    "    h12 = df.h[i][0,1]          # h(1,2)\n",
    "    h21 = df.h[i][1,0]          # h(2,1)\n",
    "    h22 = df.h[i][1,1]          # h(2,2)\n",
    "    h31 = df.h[i][2,0]          # h(3,1)\n",
    "    h32 = df.h[i][2,1]          # h(3,2)\n",
    "    \n",
    "    f11 = df.f[i][0,0]          # f(1,1)\n",
    "    f12 = df.f[i][0,1]          # f(1,2)\n",
    "    f13 = df.f[i][0,2]          # f(1,3)\n",
    "    f21 = df.f[i][1,0]          # f(2,1)\n",
    "    f22 = df.f[i][1,1]          # f(2,2)\n",
    "    f23 = df.f[i][1,2]          # f(2,3)\n",
    "    f31 = df.f[i][2,0]          # f(3,1)\n",
    "    f32 = df.f[i][2,1]          # f(3,2)\n",
    "    f33 = df.f[i][2,2]          # f(3,3)\n",
    "    \n",
    "    a.LHA.blocks['HLIN'][(1,1)]='%0.8E      # hl(1,1)'    %h11\n",
    "    a.LHA.blocks['HLIN'][(1,2)]='%0.8E      # hl(1,2)'    %h12\n",
    "    a.LHA.blocks['HLIN'][(2,1)]='%0.8E      # hl(2,1)'    %h21\n",
    "    a.LHA.blocks['HLIN'][(2,2)]='%0.8E      # hl(2,2)'    %h22\n",
    "    a.LHA.blocks['HLIN'][(3,1)]='%0.8E      # hl(3,1)'    %h31\n",
    "    a.LHA.blocks['HLIN'][(3,2)]='%0.8E      # hl(3,2)'    %h32\n",
    "\n",
    "    a.LHA.blocks['FLIN'][(1,1)]='%0.8E      # fl(1,1)'    %f11\n",
    "    a.LHA.blocks['FLIN'][(1,2)]='%0.8E      # fl(1,2)'    %f12\n",
    "    a.LHA.blocks['FLIN'][(1,3)]='%0.8E      # fl(1,3)'    %f13\n",
    "    a.LHA.blocks['FLIN'][(2,1)]='%0.8E      # fl(2,1)'    %f21\n",
    "    a.LHA.blocks['FLIN'][(2,2)]='%0.8E      # fl(2,2)'    %f22\n",
    "    a.LHA.blocks['FLIN'][(2,3)]='%0.8E      # fl(2,3)'    %f23\n",
    "    a.LHA.blocks['FLIN'][(3,1)]='%0.8E      # fl(3,1)'    %f31\n",
    "    a.LHA.blocks['FLIN'][(3,2)]='%0.8E      # fl(3,2)'    %f32\n",
    "    a.LHA.blocks['FLIN'][(3,3)]='%0.8E      # fl(3,3)'    %f33\n",
    "    \n",
    "    L_s, Mu3, Mu12, Mu22, vs = Masses(df.M1[i], df.M2[i], Ms, df.Theta[i], Lam5, Lam6, Lam8, Lam7, v, MZp, g1p)\n",
    "    \n",
    "    a.LHA.blocks['MINPAR'][2]='%0.8E       #lambdaSInput' %L_s\n",
    "    a.LHA.blocks['MINPAR'][11]='%0.8E      #mu1INPUT'     %Mu12\n",
    "    a.LHA.blocks['MINPAR'][12]='%0.8E      #mu2INPUT'     %Mu22\n",
    "    a.LHA.blocks['MINPAR'][13]='%0.8E      #mu3INPUT'     %Mu3\n",
    "    a.LHA.blocks['MINPAR'][30]='%0.8E      #vXinput'      %vs\n",
    "\n",
    "    moc=a.runSPheno()\n",
    "    \n",
    "    M1 = a.LHA_out.blocks['MASS'].entries[14]\n",
    "    M2 = a.LHA_out.blocks['MASS'].entries[8810012]\n",
    "    M3 = a.LHA_out.blocks['MASS'].entries[8810016]\n",
    "    \n",
    "    Mh1 = a.LHA_out.blocks['MASS'].entries[900037]\n",
    "    Mh2 = a.LHA_out.blocks['MASS'].entries[900038]\n",
    "    \n",
    "    sint = a.LHA_out.blocks['CHARGEMIX'].entries[3,2]\n",
    "    cost = a.LHA_out.blocks['CHARGEMIX'].entries[3,3]\n",
    "    \n",
    "    phi = np.arctan2(sint,cost)\n",
    "\n",
    "    Brmuegamma = a.LHA_out.blocks['FLAVORKITLFV'][701]     #BR(mu->e gamma)\n",
    "    Brtauegamma = a.LHA_out.blocks['FLAVORKITLFV'][702]    #BR(tau->e gamma)\n",
    "    Brtaumugamma = a.LHA_out.blocks['FLAVORKITLFV'][703]   #BR(tau->mu gamma)     \n",
    "    Brmu3e = a.LHA_out.blocks['FLAVORKITLFV'][901]         #BR(mu->3e)\n",
    "    Brtau3mu = a.LHA_out.blocks['FLAVORKITLFV'][903]       #BR(tau->3mu)    \n",
    "    Brtauemumu = a.LHA_out.blocks['FLAVORKITLFV'][904]     #BR(tau- -> e- mu+ mu-) \n",
    "    Brtaumuee = a.LHA_out.blocks['FLAVORKITLFV'][905]      #BR(tau- -> mu- e+ e-)\n",
    "    Brtau3e = a.LHA_out.blocks['FLAVORKITLFV'][902]        #BR(tau->3e)\n",
    "    CrmueTi = a.LHA_out.blocks['FLAVORKITLFV'][801]        #CR(mu-e, Ti) \n",
    "    CrmueAu = a.LHA_out.blocks['FLAVORKITLFV'][804]        #CR(mu-e, Au)    \n",
    "    \n",
    "    FLFV = np.array([Brmuegamma, Brtauegamma, Brtaumugamma, Brmu3e, Brtau3mu, Brtauemumu, Brtaumuee, Brtau3e, CrmueTi, CrmueAu])    \n",
    "    \n",
    "    if Check_LFV(FLFV):\n",
    "        if Check(np.abs(M1), np.abs(M2), np.abs(M3), IH = IH):\n",
    "            a.branchings(a.LHA_out.decays,min_pdg=25)\n",
    "            a.Series=a.Series.append(a.Br_names)        \n",
    "            a.Series=a.Series.append(hp.block_to_series(a.LHA_out_with_comments.blocks['FLAVORKITLFV']))\n",
    "            a.Series=a.Series.append(pd.Series({(3,1):df.h[i][2,0],(3,2):df.h[i][2,1],'f23':df.f[i][1,2],'Theta':df.Theta[i],'phi':phi,'Mh1':Mh1,'Mh2':Mh2}))\n",
    "            \n",
    "            df1=df1.append(a.Series,ignore_index=True)\n",
    "            df1=df1.fillna(0)\n",
    "            \n",
    "    if (i%(int(N/10))) == 0:\n",
    "        print(np.round((float(i/(1.0*N))),2), i)\n",
    "        \n",
    "df1.shape"
   ]
  },
  {
   "cell_type": "code",
   "execution_count": null,
   "metadata": {},
   "outputs": [],
   "source": []
  }
 ],
 "metadata": {
  "kernelspec": {
   "display_name": "Python 2",
   "language": "python",
   "name": "python2"
  },
  "language_info": {
   "codemirror_mode": {
    "name": "ipython",
    "version": 2
   },
   "file_extension": ".py",
   "mimetype": "text/x-python",
   "name": "python",
   "nbconvert_exporter": "python",
   "pygments_lexer": "ipython2",
   "version": "2.7.12"
  }
 },
 "nbformat": 4,
 "nbformat_minor": 1
}
